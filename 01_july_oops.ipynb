{
 "cells": [
  {
   "cell_type": "markdown",
   "id": "35749395",
   "metadata": {},
   "source": [
    "# Ans1.\n",
    "The primary goal of Object-Oriented Programming (OOP) is to model and organize software in a way that mirrors the real-world entities and their interactions, making it easier to design, develop, and maintain complex software systems. OOP is based on a set of principles and concepts that revolve around the concept of \"objects,\" which are instances of classes representing real-world or abstract entities. These objects encapsulate data (attributes) and behavior (methods) related to those entities.\n",
    "\n",
    "The key objectives and principles of OOP include:\n",
    "\n",
    "# Encapsulation: \n",
    "Encapsulation involves bundling data (attributes) and the methods (functions) that operate on that data into a single unit known as an \"object.\" This encapsulation helps to hide the internal details of an object, making it easier to manage and maintain code.\n",
    "\n",
    "# Abstraction: \n",
    "Abstraction is the process of simplifying complex reality by modeling classes based on their essential characteristics. It allows developers to focus on the high-level structure of the system rather than getting bogged down in the low-level implementation details.\n",
    "\n",
    "# Inheritance: \n",
    "Inheritance allows the creation of new classes (subclasses or derived classes) based on existing classes (superclasses or base classes). This promotes code reuse and the creation of a hierarchy of classes, which can inherit and override the behavior of their parent classes.\n",
    "\n",
    "# Polymorphism:\n",
    "Polymorphism means that objects of different classes can be treated as objects of a common superclass. It allows for flexibility in implementing the same method in different ways within subclasses, supporting method overriding and interfaces in many programming languages.\n",
    "\n",
    "# Modularity: \n",
    "OOP promotes modularity, which means that a software system can be divided into smaller, self-contained modules or classes. This simplifies development, maintenance, and testing.\n",
    "\n",
    "# Flexibility and Extensibility: \n",
    "OOP enables systems to be more flexible and extensible, making it easier to add new features or modify existing ones without affecting the entire codebase.\n",
    "\n",
    "# Reusability: \n",
    "OOP promotes code reusability through inheritance and the creation of well-defined, reusable classes and components.\n",
    "\n",
    "By adhering to these OOP principles, developers aim to create software that is more organized, easier to understand, and maintainable, ultimately leading to higher-quality software and improved productivity in software development projects."
   ]
  },
  {
   "cell_type": "markdown",
   "id": "81dfb30c",
   "metadata": {},
   "source": [
    "# Ans2.\n",
    "In Python, an object is a fundamental concept that represents a data structure that contains both data (attributes or properties) and the methods (functions) that can operate on that data. Almost everything in Python is an object, including numbers, strings, lists, functions, and custom-defined classes.\n",
    "\n",
    "Here are some key points to understand about objects in Python:\n",
    "\n",
    "# Everything is an object: \n",
    "In Python, variables store references to objects. Whether you're working with numbers, strings, lists, or more complex data structures, each of them is an object with its own attributes and methods.\n",
    "\n",
    "# Objects have attributes: \n",
    "\n",
    "Objects can have attributes, which are variables associated with them. For example, a string object has attributes like length or specific characters at different positions.\n",
    "\n",
    "# Objects have methods: \n",
    "Objects can also have methods, which are functions associated with the object. These methods can be used to perform operations or manipulations specific to the type of object. For instance, you can call methods like upper() or replace() on a string object.\n",
    "\n",
    "# Creating custom objects: \n",
    "You can create your own custom objects by defining classes. A class is a blueprint for creating objects, and objects created from a class are instances of that class. You can define attributes and methods within a class to encapsulate data and behavior.\n",
    "\n",
    "Here's a simple example of creating a custom object (a class) and an instance of that class:"
   ]
  },
  {
   "cell_type": "code",
   "execution_count": 3,
   "id": "823b236a",
   "metadata": {},
   "outputs": [
    {
     "name": "stdout",
     "output_type": "stream",
     "text": [
      "Alice\n",
      "My name is Bob, and I am 25 years old.\n"
     ]
    }
   ],
   "source": [
    "class Person:\n",
    "    def __init__(self, name, age):\n",
    "        self.name = name\n",
    "        self.age = age\n",
    "\n",
    "    def introduce(self):\n",
    "        print(f\"My name is {self.name}, and I am {self.age} years old.\")\n",
    "\n",
    "# Creating an instance of the Person class\n",
    "person1 = Person(\"Alice\", 30)\n",
    "person2 = Person(\"Bob\", 25)\n",
    "\n",
    "# Accessing attributes and calling methods\n",
    "print(person1.name)  # Accessing an attribute\n",
    "person2.introduce()  # Calling a method\n",
    "\n"
   ]
  },
  {
   "cell_type": "markdown",
   "id": "897e6932",
   "metadata": {},
   "source": [
    "# Ans3. \n",
    "In Python, a class is a blueprint or a template for creating objects. It defines the structure and behavior of objects of a particular type. You can think of a class as a user-defined data type that encapsulates data (attributes) and functions (methods) that operate on that data."
   ]
  },
  {
   "cell_type": "code",
   "execution_count": 29,
   "id": "38f4cfbe",
   "metadata": {},
   "outputs": [
    {
     "name": "stdout",
     "output_type": "stream",
     "text": [
      "Buddy is barking!\n"
     ]
    }
   ],
   "source": [
    "class Dog:\n",
    "    def __init__(self, name, breed):\n",
    "        self.name = name\n",
    "        self.breed = breed\n",
    "\n",
    "    def bark(self):\n",
    "        return f\"{self.name} is barking!\"\n",
    "\n",
    "my_dog = Dog(\"Buddy\", \"Golden Retriever\")\n",
    "print(my_dog.bark())  # Output: \"Buddy is barking!\""
   ]
  },
  {
   "cell_type": "markdown",
   "id": "1c446c4c",
   "metadata": {},
   "source": [
    "# Ans4.\n",
    "In a Python class, attributes and methods are two fundamental components that define the behavior and characteristics of objects created from that class."
   ]
  },
  {
   "cell_type": "code",
   "execution_count": 32,
   "id": "3b59ae74",
   "metadata": {},
   "outputs": [
    {
     "name": "stdout",
     "output_type": "stream",
     "text": [
      "Alice\n",
      "Hello, my name is Alice, and I am 30 years old.\n"
     ]
    }
   ],
   "source": [
    "class Person:\n",
    "    def __init__(self, name, age):\n",
    "        self.name = name  # Attribute\n",
    "        self.age = age    # Attribute\n",
    "\n",
    "    def greet(self):\n",
    "        return f\"Hello, my name is {self.name}, and I am {self.age} years old.\"\n",
    "\n",
    "person = Person(\"Alice\", 30)\n",
    "print(person.name)  # Accessing attribute\n",
    "print(person.greet())  # Calling a method"
   ]
  },
  {
   "cell_type": "markdown",
   "id": "618c60ef",
   "metadata": {},
   "source": [
    "## Ans5.\n",
    "In Python, there are two types of variables associated with a class: class variables and instance variables. Here's the difference between them:\n",
    "## 1.\tClass Variables:\n",
    "• Class variables are shared among all instances (objects) of a class. They belong to the class itself rather than any specific instance.\n",
    "•\tThey are defined within the class but outside of any instance methods.\n",
    "•\tClass variables are typically used to store attributes or data that should be common to all instances of the class.\n",
    "•\tYou can access them using the class name or an instance of the class.\n",
    "\n",
    "## 2.\tInstance Variables:\n",
    "•\tInstance variables are unique to each instance of a class. They are defined within the instance methods of a class or the __init__ method (constructor).\n",
    "•\tThese variables store data that is specific to an individual object or instance of the class.\n",
    "•\tYou can access them using the instance name."
   ]
  },
  {
   "cell_type": "markdown",
   "id": "96d24064",
   "metadata": {},
   "source": [
    "## Ans6.\n",
    "In Python, the self parameter in class methods is a reference to the instance of the class that is calling the method. It is a convention and not a reserved keyword, but it is recommended to use self as the first parameter name for instance methods. You could technically name it something else, but using self is a widely accepted convention, and it makes your code more readable and maintainable.\n",
    "\n",
    "The purpose of the self parameter is to access and modify the attributes and behaviors of the specific instance of the class to which the method belongs. When you define a class and its methods, you can use self to refer to the instance's attributes (instance variables) and perform operations on them. It allows you to work with the data associated with a particular object created from that class."
   ]
  },
  {
   "cell_type": "code",
   "execution_count": 16,
   "id": "34b489e2",
   "metadata": {},
   "outputs": [
    {
     "name": "stdout",
     "output_type": "stream",
     "text": [
      "Buddy is barking!\n",
      "Rex is barking!\n"
     ]
    }
   ],
   "source": [
    "class Dog:\n",
    "    def __init__(self, name, age):\n",
    "        self.name = name\n",
    "        self.age = age\n",
    "\n",
    "    def bark(self):\n",
    "        print(f\"{self.name} is barking!\")\n",
    "\n",
    "# Creating instances of the Dog class\n",
    "dog1 = Dog(\"Buddy\", 3)\n",
    "dog2 = Dog(\"Rex\", 5)\n",
    "\n",
    "# Calling the bark method on each instance\n",
    "dog1.bark()  # Output: \"Buddy is barking!\"\n",
    "dog2.bark()  # Output: \"Rex is barking!\""
   ]
  },
  {
   "cell_type": "code",
   "execution_count": 17,
   "id": "034d5b04",
   "metadata": {},
   "outputs": [
    {
     "name": "stdout",
     "output_type": "stream",
     "text": [
      "Title: Python Programming\n",
      "Author: John Smith\n",
      "ISBN: 978-1234567890\n",
      "Publication Year: 2020\n",
      "Available Copies: 5\n",
      "Python Programming has been checked out. 4 copy(s) available.\n",
      "Python Programming has been checked out. 3 copy(s) available.\n",
      "Python Programming has been returned. 4 copy(s) available.\n",
      "Title: Introduction to OOP\n",
      "Author: Alice Johnson\n",
      "ISBN: 978-0987654321\n",
      "Publication Year: 2018\n",
      "Available Copies: 2\n",
      "Introduction to OOP has been checked out. 1 copy(s) available.\n",
      "Introduction to OOP has been checked out. 0 copy(s) available.\n",
      "Introduction to OOP has been returned. 1 copy(s) available.\n"
     ]
    }
   ],
   "source": [
    "#Ans7.\n",
    "class Book:\n",
    "    def __init__(self, title, author, isbn, publication_year, available_copies):\n",
    "        self.title = title\n",
    "        self.author = author\n",
    "        self.isbn = isbn\n",
    "        self.publication_year = publication_year\n",
    "        self.available_copies = available_copies\n",
    "\n",
    "    def check_out(self):\n",
    "        if self.available_copies > 0:\n",
    "            self.available_copies -= 1\n",
    "            print(f\"{self.title} has been checked out. {self.available_copies} copy(s) available.\")\n",
    "        else:\n",
    "            print(f\"Sorry, {self.title} is currently unavailable for checkout.\")\n",
    "\n",
    "    def return_book(self):\n",
    "        self.available_copies += 1\n",
    "        print(f\"{self.title} has been returned. {self.available_copies} copy(s) available.\")\n",
    "\n",
    "    def display_book_info(self):\n",
    "        print(f\"Title: {self.title}\")\n",
    "        print(f\"Author: {self.author}\")\n",
    "        print(f\"ISBN: {self.isbn}\")\n",
    "        print(f\"Publication Year: {self.publication_year}\")\n",
    "        print(f\"Available Copies: {self.available_copies}\")\n",
    "\n",
    "# Example usage:\n",
    "book1 = Book(\"Python Programming\", \"John Smith\", \"978-1234567890\", 2020, 5)\n",
    "book2 = Book(\"Introduction to OOP\", \"Alice Johnson\", \"978-0987654321\", 2018, 2)\n",
    "\n",
    "book1.display_book_info()\n",
    "book1.check_out()\n",
    "book1.check_out()\n",
    "book1.return_book()\n",
    "\n",
    "book2.display_book_info()\n",
    "book2.check_out()\n",
    "book2.check_out()\n",
    "book2.return_book()"
   ]
  },
  {
   "cell_type": "code",
   "execution_count": 20,
   "id": "96e56dae",
   "metadata": {},
   "outputs": [
    {
     "name": "stdout",
     "output_type": "stream",
     "text": [
      "Ticket ID: 1\n",
      "Event Name: Concert\n",
      "Event Date: 2023-12-15\n",
      "Venue: Concert Hall\n",
      "Seat Number: A101\n",
      "Price: ₹370.0\n",
      "Reservation Status: Not Reserved\n",
      "Ticket 1 has been reserved.\n",
      "Ticket 1 is already reserved.\n",
      "Reservation for Ticket 1 has been canceled.\n",
      "Ticket ID: 1\n",
      "Event Name: Concert\n",
      "Event Date: 2023-12-15\n",
      "Venue: Concert Hall\n",
      "Seat Number: A101\n",
      "Price: ₹370.0\n",
      "Reservation Status: Not Reserved\n",
      "Ticket ID: 2\n",
      "Event Name: Sports Event\n",
      "Event Date: 2023-11-20\n",
      "Venue: Stadium\n",
      "Seat Number: B205\n",
      "Price: ₹230.0\n",
      "Reservation Status: Not Reserved\n",
      "Ticket 2 has been reserved.\n",
      "Reservation for Ticket 2 has been canceled.\n",
      "Ticket ID: 2\n",
      "Event Name: Sports Event\n",
      "Event Date: 2023-11-20\n",
      "Venue: Stadium\n",
      "Seat Number: B205\n",
      "Price: ₹230.0\n",
      "Reservation Status: Not Reserved\n"
     ]
    }
   ],
   "source": [
    "#Ans 8\n",
    "class Ticket:\n",
    "    def __init__(self, ticket_id, event_name, event_date, venue, seat_number, price):\n",
    "        self.ticket_id = ticket_id\n",
    "        self.event_name = event_name\n",
    "        self.event_date = event_date\n",
    "        self.venue = venue\n",
    "        self.seat_number = seat_number\n",
    "        self.price = price\n",
    "        self.is_reserved = False\n",
    "\n",
    "    def reserve_ticket(self):\n",
    "        if not self.is_reserved:\n",
    "            self.is_reserved = True\n",
    "            print(f\"Ticket {self.ticket_id} has been reserved.\")\n",
    "        else:\n",
    "            print(f\"Ticket {self.ticket_id} is already reserved.\")\n",
    "\n",
    "    def cancel_reservation(self):\n",
    "        if self.is_reserved:\n",
    "            self.is_reserved = False\n",
    "            print(f\"Reservation for Ticket {self.ticket_id} has been canceled.\")\n",
    "        else:\n",
    "            print(f\"Ticket {self.ticket_id} is not reserved, so it cannot be canceled.\")\n",
    "\n",
    "    def display_ticket_info(self):\n",
    "        print(f\"Ticket ID: {self.ticket_id}\")\n",
    "        print(f\"Event Name: {self.event_name}\")\n",
    "        print(f\"Event Date: {self.event_date}\")\n",
    "        print(f\"Venue: {self.venue}\")\n",
    "        print(f\"Seat Number: {self.seat_number}\")\n",
    "        print(f\"Price: ₹{self.price}\")\n",
    "        reservation_status = \"Reserved\" if self.is_reserved else \"Not Reserved\"\n",
    "        print(f\"Reservation Status: {reservation_status}\")\n",
    "\n",
    "# Example usage:\n",
    "ticket1 = Ticket(1, \"Concert\", \"2023-12-15\", \"Concert Hall\", \"A101\", 370.0)\n",
    "ticket2 = Ticket(2, \"Sports Event\", \"2023-11-20\", \"Stadium\", \"B205\", 230.0)\n",
    "\n",
    "ticket1.display_ticket_info()\n",
    "ticket1.reserve_ticket()\n",
    "ticket1.reserve_ticket()\n",
    "ticket1.cancel_reservation()\n",
    "ticket1.display_ticket_info()\n",
    "\n",
    "ticket2.display_ticket_info()\n",
    "ticket2.reserve_ticket()\n",
    "ticket2.cancel_reservation()\n",
    "ticket2.display_ticket_info()"
   ]
  },
  {
   "cell_type": "code",
   "execution_count": 23,
   "id": "6fd36e63",
   "metadata": {},
   "outputs": [
    {
     "name": "stdout",
     "output_type": "stream",
     "text": [
      "Added Mops to the shopping cart.\n",
      "Added cleaning towel to the shopping cart.\n",
      "Items in the shopping cart:\n",
      "Mops\n",
      "cleaning towel\n",
      "wiper is not in the shopping cart.\n",
      "dishwash liquid is not in the shopping cart.\n",
      "Items in the shopping cart:\n",
      "Mops\n",
      "cleaning towel\n",
      "The shopping cart has been cleared.\n",
      "The shopping cart is empty.\n"
     ]
    }
   ],
   "source": [
    "#Ans9\n",
    "class ShoppingCart:\n",
    "    def __init__(self):\n",
    "        self.items = []\n",
    "\n",
    "    def add_item(self, item):\n",
    "        self.items.append(item)\n",
    "        print(f\"Added {item} to the shopping cart.\")\n",
    "\n",
    "    def remove_item(self, item):\n",
    "        if item in self.items:\n",
    "            self.items.remove(item)\n",
    "            print(f\"Removed {item} from the shopping cart.\")\n",
    "        else:\n",
    "            print(f\"{item} is not in the shopping cart.\")\n",
    "\n",
    "    def view_cart(self):\n",
    "        if not self.items:\n",
    "            print(\"The shopping cart is empty.\")\n",
    "        else:\n",
    "            print(\"Items in the shopping cart:\")\n",
    "            for item in self.items:\n",
    "                print(item)\n",
    "\n",
    "    def clear_cart(self):\n",
    "        self.items = []\n",
    "        print(\"The shopping cart has been cleared.\")\n",
    "\n",
    "# Example usage:\n",
    "cart = ShoppingCart()\n",
    "\n",
    "cart.add_item(\"Mops\")\n",
    "cart.add_item(\"cleaning towel\")\n",
    "cart.view_cart()\n",
    "\n",
    "cart.remove_item(\"wiper\")\n",
    "cart.remove_item(\"dishwash liquid\")\n",
    "cart.view_cart()\n",
    "\n",
    "cart.clear_cart()\n",
    "cart.view_cart()"
   ]
  },
  {
   "cell_type": "code",
   "execution_count": 25,
   "id": "fd52ca94",
   "metadata": {},
   "outputs": [
    {
     "name": "stdout",
     "output_type": "stream",
     "text": [
      "Attendance for Alice on 2023-11-01: present\n",
      "Attendance for Alice on 2023-11-02: absent\n",
      "Attendance for Alice on 2023-11-03: absent\n",
      "Attendance for Bob on 2023-11-01: present\n",
      "Attendance for Bob on 2023-11-02: present\n",
      "Attendance for Bob on 2023-11-03: present\n",
      "Alice's attendance record: {'2023-11-01': 'present', '2023-11-02': 'absent', '2023-11-03': 'absent'}\n",
      "Bob's attendance record: {'2023-11-01': 'present', '2023-11-02': 'present', '2023-11-03': 'present'}\n",
      "Alice's average attendance: 33.33333333333333%\n",
      "Bob's average attendance: 100.0%\n"
     ]
    }
   ],
   "source": [
    "#Ans10\n",
    "class Student:\n",
    "    def __init__(self, name, age, grade, student_id):\n",
    "        self.name = name\n",
    "        self.age = age\n",
    "        self.grade = grade\n",
    "        self.student_id = student_id\n",
    "        self.attendance = {}  # Attendance record in the form of a dictionary\n",
    "\n",
    "    def update_attendance(self, date, status):\n",
    "        if status.lower() in [\"present\", \"absent\"]:\n",
    "            self.attendance[date] = status.lower()\n",
    "            print(f\"Attendance for {self.name} on {date}: {status}\")\n",
    "        else:\n",
    "            print(\"Invalid attendance status. Use 'present' or 'absent'.\")\n",
    "\n",
    "    def get_attendance(self):\n",
    "        return self.attendance\n",
    "\n",
    "    def get_average_attendance(self):\n",
    "        if not self.attendance:\n",
    "            return 0.0\n",
    "\n",
    "        total_days = len(self.attendance)\n",
    "        present_count = sum(1 for status in self.attendance.values() if status == \"present\")\n",
    "        average_percentage = (present_count / total_days) * 100\n",
    "        return average_percentage\n",
    "\n",
    "# Example usage:\n",
    "student1 = Student(\"Alice\", 16, \"10th grade\", \"S001\")\n",
    "student2 = Student(\"Bob\", 15, \"9th grade\", \"S002\")\n",
    "\n",
    "student1.update_attendance(\"2023-11-01\", \"present\")\n",
    "student1.update_attendance(\"2023-11-02\", \"absent\")\n",
    "student1.update_attendance(\"2023-11-03\", \"absent\")\n",
    "\n",
    "student2.update_attendance(\"2023-11-01\", \"present\")\n",
    "student2.update_attendance(\"2023-11-02\", \"present\")\n",
    "student2.update_attendance(\"2023-11-03\", \"present\")\n",
    "\n",
    "print(f\"{student1.name}'s attendance record: {student1.get_attendance()}\")\n",
    "print(f\"{student2.name}'s attendance record: {student2.get_attendance()}\")\n",
    "\n",
    "print(f\"{student1.name}'s average attendance: {student1.get_average_attendance()}%\")\n",
    "print(f\"{student2.name}'s average attendance: {student2.get_average_attendance()}%\")"
   ]
  }
 ],
 "metadata": {
  "celltoolbar": "Raw Cell Format",
  "kernelspec": {
   "display_name": "Python 3 (ipykernel)",
   "language": "python",
   "name": "python3"
  },
  "language_info": {
   "codemirror_mode": {
    "name": "ipython",
    "version": 3
   },
   "file_extension": ".py",
   "mimetype": "text/x-python",
   "name": "python",
   "nbconvert_exporter": "python",
   "pygments_lexer": "ipython3",
   "version": "3.11.3"
  }
 },
 "nbformat": 4,
 "nbformat_minor": 5
}
